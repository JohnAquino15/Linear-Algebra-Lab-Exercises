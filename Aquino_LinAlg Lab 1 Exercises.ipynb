{
 "cells": [
  {
   "cell_type": "markdown",
   "metadata": {},
   "source": [
    "# Linear Algebra (CpE210A)"
   ]
  },
  {
   "cell_type": "markdown",
   "metadata": {},
   "source": [
    "### Laboratory 1: Getting acquainted with Python"
   ]
  },
  {
   "cell_type": "markdown",
   "metadata": {},
   "source": [
    "Coded and submitted by:"
   ]
  },
  {
   "cell_type": "markdown",
   "metadata": {},
   "source": [
    "Aquino, John Benedict U."
   ]
  },
  {
   "cell_type": "markdown",
   "metadata": {},
   "source": [
    "Section: 58010"
   ]
  },
  {
   "cell_type": "code",
   "execution_count": 14,
   "metadata": {},
   "outputs": [
    {
     "data": {
      "text/plain": [
       "\"\\nGRADED CELL 1 (50 points)\\nTry to replicate the output shown below using the variables below.\\nNote: Shorter the code higher the points!\\n\\nScore Matrix:\\nWorking        |Lines        |Points\\nYes            |3 or less    |100%\\nYes            |4 or more    |90%\\nNo             |1 or more    |70%\\nNo             |0            |0%\\n\\nPro score: 1 line. --> +5 points (+10 with explanation)\\nparty = ['Charmander', 'Pidgey', 'Sandshrew', 'Rattata', 'Abra']\\nlevels = [15, 11, 18, 5, 14]\\n\""
      ]
     },
     "execution_count": 14,
     "metadata": {},
     "output_type": "execute_result"
    }
   ],
   "source": [
    "\n",
    "'''\n",
    "GRADED CELL 1 (50 points)\n",
    "Try to replicate the output shown below using the variables below.\n",
    "Note: Shorter the code higher the points!\n",
    "\n",
    "Score Matrix:\n",
    "Working        |Lines        |Points\n",
    "Yes            |3 or less    |100%\n",
    "Yes            |4 or more    |90%\n",
    "No             |1 or more    |70%\n",
    "No             |0            |0%\n",
    "\n",
    "Pro score: 1 line. --> +5 points (+10 with explanation)\n",
    "party = ['Charmander', 'Pidgey', 'Sandshrew', 'Rattata', 'Abra']\n",
    "levels = [15, 11, 18, 5, 14]\n",
    "'''"
   ]
  },
  {
   "cell_type": "code",
   "execution_count": 11,
   "metadata": {},
   "outputs": [
    {
     "name": "stdout",
     "output_type": "stream",
     "text": [
      "Charmander at level 15\n",
      "Pidgey at level 11\n",
      "Sandshrew at level 18\n",
      "Rattata at level 5\n",
      "Abra at level 14\n"
     ]
    }
   ],
   "source": [
    "party = [\"Charmander\", \"Pidgey\", \"Sandshrew\", \"Rattata\", \"Abra\"]; levels =[15, 11, 18, 5, 14];\n",
    "for parties, level in zip(party, levels):\n",
    "    print(parties, \"at level\", level)"
   ]
  },
  {
   "cell_type": "markdown",
   "metadata": {},
   "source": [
    "CODE IMPLEMENTAION: The process of this code is the for loop will iterate the sets of string inside the zip(party) and zip(levels), and then print each iterated string of each."
   ]
  },
  {
   "cell_type": "code",
   "execution_count": 13,
   "metadata": {},
   "outputs": [],
   "source": [
    "'''\n",
    "GRADED CELL 2 (10 points)\n",
    "Problem 1: You are missing 1 more pokémon to complete your team. Listed below are your reserves.\n",
    "Identify the top 3  highest or lowest level pokémon and store them in a variable 'picks'. (Choose only one path)\n",
    "\n",
    "Score Matrix:\n",
    "Working        |Lines         |Points\n",
    "Yes            |20 or less    |100%\n",
    "Yes            |21 or more    |90%\n",
    "No             |1 or more     |70%\n",
    "No             |0             |0%\n",
    "\n",
    "Pro score: 1 line --> +30 points (+50 with explanation)\n",
    "Tip: try to search about sort(), sorted(), and append().\n",
    "'''\n",
    "reserves = [\n",
    "    ('Onix',10),\n",
    "    ('Slowpoke',18),\n",
    "    ('Dialga', 2),\n",
    "    ('Magikarp', 32),\n",
    "    ('Feebas', 22),\n",
    "    ('Swablu', 19),\n",
    "    ('Regigigas', 3),\n",
    "    ('Unown', 50)\n",
    "]"
   ]
  },
  {
   "cell_type": "code",
   "execution_count": 205,
   "metadata": {},
   "outputs": [
    {
     "name": "stdout",
     "output_type": "stream",
     "text": [
      "['Dialga', 'Regigigas', 'Onix']\n",
      "['Unown', 'Magikarp', 'Feebas']\n"
     ]
    }
   ],
   "source": [
    "reserves = [\n",
    "    ('Onix',10),\n",
    "    ('Slowpoke',18),\n",
    "    ('Dialga', 2)\n",
    "    ('Magikarp', 32),\n",
    "    ('Feebas', 22),\n",
    "    ('Swablu', 19),\n",
    "    ('Regigigas', 3),\n",
    "    ('Unown', 50)\n",
    "]\n",
    "reserves.sort(key=lambda row: row[1])\n",
    "print(\"['\"+ str (reserves[0][0])+\"', '\"+ str (reserves[1][0])+\"', '\"+ str (reserves[2][0])+\"']\")\n",
    "print(\"['\"+ str (reserves[-1][0])+\"', '\"+ str (reserves[-2][0])+\"', '\"+ str (reserves[-3][0])+\"']\")\n"
   ]
  },
  {
   "cell_type": "markdown",
   "metadata": {},
   "source": [
    "CODE IMPLEMENTAION:On this program, I make a code to identify and separate the pokemons and group them according to their level."
   ]
  },
  {
   "cell_type": "code",
   "execution_count": 19,
   "metadata": {},
   "outputs": [],
   "source": [
    "'''\n",
    "GRADED CELL 3 (40 points)\n",
    "Create a function named \"create_party\" that will add the chosen pokémon from graded cell 3 to the party from graded cell 1.\n",
    "The function should display all the possible parties while keeping the original members of the party.\n",
    "Note: A party should only have 6 pokémon.\n",
    "\n",
    "Score Matrix:\n",
    "Working        |Lines         |Points\n",
    "Yes            |20 or less    |100% \n",
    "Yes            |21 or more    |90%\n",
    "No             |1 or more     |70%\n",
    "No             |0             |0%\n",
    "\n",
    "Pro score: 1 line --> +30 points (+50 with explanation)\n",
    "Tip: try to search about sort(), sorted(), and append().\n",
    "'''\n",
    "def create_party(party, candidates):\n",
    "    return suggested_parties\n"
   ]
  },
  {
   "cell_type": "code",
   "execution_count": 208,
   "metadata": {},
   "outputs": [
    {
     "name": "stdout",
     "output_type": "stream",
     "text": [
      "['Charmande', 'Pidgey', 'Sandshrew', 'Rattata', 'Abra', 'U', 'n', 'o', 'w', 'n']\n",
      "['Charmande', 'Pidgey', 'Sandshrew', 'Rattata', 'Abra', 'M', 'a', 'g', 'i', 'k', 'a', 'r', 'p']\n",
      "['Charmande', 'Pidgey', 'Sandshrew', 'Rattata', 'Abra', 'F', 'e', 'e', 'b', 'a', 's']\n"
     ]
    },
    {
     "data": {
      "text/plain": [
       "['Charmande', 'Pidgey', 'Sandshrew', 'Rattata', 'Abra']"
      ]
     },
     "execution_count": 208,
     "metadata": {},
     "output_type": "execute_result"
    }
   ],
   "source": [
    "party = [\"Charmande\", \"Pidgey\", \"Sandshrew\", \"Rattata\", \"Abra\"]\n",
    "candidates = [\"Unown\", \"Magikarp\", \"Feebas\" ]\n",
    "\n",
    "def create_party(party, candidates):\n",
    "    for item in candidates:\n",
    "        (print(party + list(item)))\n",
    "    return party\n",
    "create_party(party, candidates)"
   ]
  },
  {
   "cell_type": "markdown",
   "metadata": {},
   "source": [
    "CODE IMPLEMENTATION: Here I defined a function create_party() function for the sets of the party and the candidates, and then combine the set party with each of the items inside the set candidate before printing. As seen in the result each item in the set candidate is now included in a set party."
   ]
  }
 ],
 "metadata": {
  "kernelspec": {
   "display_name": "Python 3",
   "language": "python",
   "name": "python3"
  },
  "language_info": {
   "codemirror_mode": {
    "name": "ipython",
    "version": 3
   },
   "file_extension": ".py",
   "mimetype": "text/x-python",
   "name": "python",
   "nbconvert_exporter": "python",
   "pygments_lexer": "ipython3",
   "version": "3.8.3"
  }
 },
 "nbformat": 4,
 "nbformat_minor": 4
}
